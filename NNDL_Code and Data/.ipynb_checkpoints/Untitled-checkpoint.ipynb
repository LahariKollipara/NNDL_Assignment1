{
 "cells": [
  {
   "cell_type": "code",
   "execution_count": null,
   "id": "4e1ba9d3",
   "metadata": {},
   "outputs": [],
   "source": [
    "import pandas as pd\n",
    "from sklearn.model_selection import train_test_split\n",
    "from sklearn.naive_bayes import GaussianNB\n",
    "from sklearn.metrics import classification_report, accuracy_score\n",
    "# Load the glass dataset\n",
    "glass_df = pd.read_csv(r\"/Users/kll/Documents/GitHub/Demo/NNDL_Assignment1/glass.csv\")\n",
    "# Split the data into features and target\n",
    "features_x= glass_df.drop(\"Type\", axis=1)\n",
    "target_y= glass_df[\"Type\"]\n",
    "# Split the data into training and testing sets\n",
    "X_train, X_test, y_train, y_test = train_test_split(features_x, target_y, test_size=0.2, random_state=0)\n",
    "# Create the Naive Bayes classifier\n",
    "naive_bayes = GaussianNB()\n",
    "# Fit the classifier on the training data\n",
    "naive_bayes.fit(X_train, y_train)\n",
    "# Predict the classes of the test data\n",
    "y_pred = naive_bayes.predict(X_test)\n",
    "# Evaluate the model on the test data\n",
    "print(\"Accuracy score:\", accuracy_score(y_test, y_pred))\n",
    "print(\"\\nClassification report:\")\n",
    "print(classification_report(y_test, y_pred))\n"
   ]
  }
 ],
 "metadata": {
  "kernelspec": {
   "display_name": "Python 3 (ipykernel)",
   "language": "python",
   "name": "python3"
  },
  "language_info": {
   "codemirror_mode": {
    "name": "ipython",
    "version": 3
   },
   "file_extension": ".py",
   "mimetype": "text/x-python",
   "name": "python",
   "nbconvert_exporter": "python",
   "pygments_lexer": "ipython3",
   "version": "3.10.9"
  }
 },
 "nbformat": 4,
 "nbformat_minor": 5
}
